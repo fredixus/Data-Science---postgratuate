{
 "cells": [
  {
   "cell_type": "markdown",
   "metadata": {
    "slideshow": {
     "slide_type": "slide"
    }
   },
   "source": [
    "<h1>Model prognozujący ceny nieruchomości. Analiza rynku nieruchomości.</h1>"
   ]
  },
  {
   "cell_type": "markdown",
   "metadata": {
    "slideshow": {
     "slide_type": "slide"
    }
   },
   "source": [
    "<h2>Problem:</h2>\n",
    "<div>\n",
    "    <p class=\"text\">\n",
    "Bardzo dynamicznie zmieniające się ceny nieruchomości powodują chęć zdobycia wiedzy odnośnie czynników wpływających na końcową cenę oraz trendów na rynku. Wartościowe będzie zdobycie informacji jakie cechy posiadają nieruchomości obecne na rynku i w jakich cenach ofertowych są wystawione. Określenie zbioru parametrów mieszkania do 350 000 PLN. Niezbędne będzie stworzenie modelu prognozującego cenę nieruchomości dla poszczególnych cech. Dopełnieniem modelu będzie stworzenie analizy, która może być wykorzystany przez firmy zajmujące się pośrednictwem nieruchomości a także przez osoby prywatne interesujące się zakupem mieszania na cele mieszkaniowe jak i inwestycyjne. \n",
    "    </p>\n",
    "</div>\n"
   ]
  },
  {
   "cell_type": "markdown",
   "metadata": {
    "slideshow": {
     "slide_type": "slide"
    }
   },
   "source": [
    "<h3>Rozwiązanie:</h3>\n",
    "<p class=\"text\">Projekt zostanie podzielony na kilka części. W kolejnych częściach przedstawiane zostaną algorytmy użyte do poszczególnych zadań wraz z opisem. Części projektu:</p> \n",
    "\n",
    "<ol class=\"text\">\n",
    "<li>Zebranie danych, </li>\n",
    "<li>Obróbka danych, </li>\n",
    "<li>Zapisanie danych, </li>\n",
    "<li>Analiza zapisanych danych, </li> \n",
    "<li>Stawianie hipotez i budowanie wniosków,</li> \n",
    "<li>Stworzenie modelu prognozującego ceny nieruchomości,</li> \n",
    "<li>Przenalizowanie parametrów modelu, </li>\n",
    "<li>Interaktywny raport nieruchomości. </li>\n",
    "</ol>\n",
    "\n",
    "<p class=\"text\">W części pierwszej zawierającej kroki realizujące proces zebrania danych opisane zostaną używane narzędzia do tzw. Scrapowania strony WWW ze szczególnym uwzględnieniem biblioteki Beatiful Soap. W tym etapie uwzględniony zostanie proces pobierania danych z REST API zawierającego dane o nieruchomościach. </p>\n",
    "<p class=\"text\">W drugim etapie przeprowadzonego badania będzie obrobienie danych tak aby rekordy przechowywane w bazie były jednolite i pozbawione różnych nieścisłości powstałych na drodze tworzenia ogłoszeń. Transformacja danych będzie dotyczyć\n",
    "cech, wyłuskanych z dostępnych ogłoszeń zgodnie z tym co oferują wybrane platformy sprzedażowe. Etap ten zostanie zaprojektowany tak aby powstałą później bazę można było na bieżąco uzupełniać nowymi ogłoszeniami. </p>\n",
    "<p class=\"text\">Po przerobieniu danych następnym krokiem będzie zapisanie ich do bazy danych. W tym celu niezbędne będzie stworzenie bazy np. SQLite utworzonej zgodnie z informacjami znajdującymi się w ogłoszeniach. Utworzenie bazy danych pozwoli na łatwe zażądanie danymi jednak w tym celu niezbędne będzie stworzenia funkcji komunikującej się z bazą danych. </p>\n",
    "<p class=\"text\">Kiedy dane będą łatwo dostępne następnym krokiem będzie stworzenie analizy opisującej zebrane dane w celu wyłonienia pierwszych zależności, wartości odstających \n",
    "a także cech charakterystycznych dla zbioru danych. Do stworzenia analizy wykorzystane zostaną biblioteki Pandas, Numpy, Plotly oraz Matplotlib. Etap ten pozwoli na głębsze zrozumienie prowadzonych analiz a także na wstępne nakreślenie zależności jak \n",
    "i wykluczenie informacji niepotrzebnych na późniejszych etapach.</p>\n",
    "<p class=\"text\">Analiza danych pozwoli na stworzenie dokładniejszych hipotez badawczych, które zostaną potwierdzone lub obalone na drodze procesu analizowania. Statystyczna interpretacja wyników pozwoli na odniesienie badania próbki zebranej z dostępnych ogłoszeń do populacji nieruchomości. Dzięki temu krokowi będzie możliwe dalsze wykorzystywanie danych mając świadomość ich relacji i połączeń. </p>\n",
    "<p class=\"text\">Dalej stworzony zostanie model prognozujący cenę  nieruchomości. Działanie tego algorytmu będzie polegało na otrzymaniu cech opisowych mieszkania, przetworzeniu ich a następnym wygenerowaniu odpowiedzi w postaci sugerowanej ceny.  Działanie modelu będzie porównane na zbiorze testowym w którym rzeczywiste ceny mieszkań będą znane. W tym kroku użyję biblioteki do Machine Learningu np.: Scikit-learn. Model będzie działał w sposób przyrostowy tak aby prognozowana cena uwzględniała bieżące trendy cen na rynku nieruchomości.</p>\n",
    "<p class=\"text\">Do etapu tworzenia modelu dołączona zostanie analiza jego ustawień wraz\n",
    "z odniesieniem do wyników. \n",
    "Finalnym produktem ów pracy będzie stworzenie Notatnika JUPYTER zawierającego pełny algorytm opisany w powyższych punktach, stworzenie raportu podsumowującego zebrane dane w celach analizy biznesowej. </p>\n"
   ]
  }
 ],
 "metadata": {
  "kernelspec": {
   "display_name": "Python 3",
   "language": "python",
   "name": "python3"
  },
  "language_info": {
   "codemirror_mode": {
    "name": "ipython",
    "version": 3
   },
   "file_extension": ".py",
   "mimetype": "text/x-python",
   "name": "python",
   "nbconvert_exporter": "python",
   "pygments_lexer": "ipython3",
   "version": "3.7.3"
  }
 },
 "nbformat": 4,
 "nbformat_minor": 2
}
